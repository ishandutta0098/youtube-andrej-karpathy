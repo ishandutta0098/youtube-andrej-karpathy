{
 "cells": [
  {
   "cell_type": "code",
   "execution_count": null,
   "metadata": {},
   "outputs": [],
   "source": []
  }
 ],
 "metadata": {
  "kernelspec": {
   "display_name": "Python 3.8.12 ('pytorch-env')",
   "language": "python",
   "name": "python3"
  },
  "language_info": {
   "name": "python",
   "version": "3.8.12"
  },
  "orig_nbformat": 4,
  "vscode": {
   "interpreter": {
    "hash": "7b8c0e5ec3c14ef8790dc100c3f38327266fd38032698588d74e1007df4428c8"
   }
  }
 },
 "nbformat": 4,
 "nbformat_minor": 2
}
