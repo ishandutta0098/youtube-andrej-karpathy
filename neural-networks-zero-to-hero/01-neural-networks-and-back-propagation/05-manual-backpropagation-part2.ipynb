{
 "cells": [
  {
   "cell_type": "markdown",
   "metadata": {},
   "source": [
    "## Manual Backpropagation Part 2: Neuron"
   ]
  },
  {
   "cell_type": "code",
   "execution_count": 1,
   "metadata": {},
   "outputs": [
    {
     "name": "stdout",
     "output_type": "stream",
     "text": [
      "d:\\youtube-andrej-karpathy\\neural-networks-zero-to-hero\n"
     ]
    }
   ],
   "source": [
    "%cd .."
   ]
  },
  {
   "cell_type": "markdown",
   "metadata": {},
   "source": [
    "<img src=\"https://www.google.com/url?sa=i&url=https%3A%2F%2Fcs231n.github.io%2Fconvolutional-networks%2F&psig=AOvVaw29iy0a3oqNpFrzgPGjmQGv&ust=1669735360447000&source=images&cd=vfe&ved=0CBAQjRxqFwoTCPim64iX0fsCFQAAAAAdAAAAABAE\">"
   ]
  },
  {
   "cell_type": "code",
   "execution_count": null,
   "metadata": {},
   "outputs": [],
   "source": []
  }
 ],
 "metadata": {
  "kernelspec": {
   "display_name": "Python 3.8.12 ('pytorch-env')",
   "language": "python",
   "name": "python3"
  },
  "language_info": {
   "codemirror_mode": {
    "name": "ipython",
    "version": 3
   },
   "file_extension": ".py",
   "mimetype": "text/x-python",
   "name": "python",
   "nbconvert_exporter": "python",
   "pygments_lexer": "ipython3",
   "version": "3.8.12"
  },
  "orig_nbformat": 4,
  "vscode": {
   "interpreter": {
    "hash": "7b8c0e5ec3c14ef8790dc100c3f38327266fd38032698588d74e1007df4428c8"
   }
  }
 },
 "nbformat": 4,
 "nbformat_minor": 2
}
